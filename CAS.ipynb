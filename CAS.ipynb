{
  "nbformat": 4,
  "nbformat_minor": 0,
  "metadata": {
    "colab": {
      "provenance": []
    },
    "kernelspec": {
      "name": "python3",
      "display_name": "Python 3"
    },
    "language_info": {
      "name": "python"
    }
  },
  "cells": [
    {
      "cell_type": "code",
      "source": [
        "import numpy as np\n",
        "import pandas as pd\n",
        "import matplotlib.pyplot as plt\n",
        "import seaborn as sns"
      ],
      "metadata": {
        "id": "qBcwtGqiAsVl"
      },
      "execution_count": 13,
      "outputs": []
    },
    {
      "cell_type": "code",
      "source": [
        "df=pd.read_csv(\"/content/analyzed_tickets.csv\")"
      ],
      "metadata": {
        "id": "OaywINaNBxg8"
      },
      "execution_count": 14,
      "outputs": []
    },
    {
      "cell_type": "code",
      "source": [
        "df.head(10)"
      ],
      "metadata": {
        "colab": {
          "base_uri": "https://localhost:8080/",
          "height": 973
        },
        "id": "7x5YXFvoB-gC",
        "outputId": "45667fff-50fc-4cdf-9672-27cf376c485c"
      },
      "execution_count": 15,
      "outputs": [
        {
          "output_type": "execute_result",
          "data": {
            "text/plain": [
              "   ticket_id                  product  \\\n",
              "0          1      FinanceManager SaaS   \n",
              "1          2  StreamFlix Subscription   \n",
              "2          3         HomeSecurity Hub   \n",
              "3          4         HomeSecurity Hub   \n",
              "4          5          OfficeSuite 365   \n",
              "5          6          OfficeSuite 365   \n",
              "6          7  StreamFlix Subscription   \n",
              "7          8  StreamFlix Subscription   \n",
              "8          9            CloudSync Pro   \n",
              "9         10      ProjectFlow Manager   \n",
              "\n",
              "                                         ticket_text  generated_timestamp  \\\n",
              "0  Okay, user wants a realistic bug report for Fi...  2025-09-03 13:18:44   \n",
              "1  Okay, user wants a realistic StreamFlix passwo...  2025-09-03 13:18:44   \n",
              "2  First, I need to understand the user's query. ...  2025-09-03 13:18:44   \n",
              "3  First, I need to understand the user's query. ...  2025-09-03 13:18:44   \n",
              "4  Okay, let me tackle this query. The user wants...  2025-09-03 13:18:44   \n",
              "5  Okay, I'm looking at this query to generate a ...  2025-09-03 13:18:44   \n",
              "6  Okay, let me tackle this query. The user wants...  2025-09-03 13:18:44   \n",
              "7  Okay, so the user wants me to generate a reali...  2025-09-03 13:18:44   \n",
              "8  Okay, let me think through this query carefull...  2025-09-03 13:18:44   \n",
              "9  Okay, let me think through this request carefu...  2025-09-03 13:18:44   \n",
              "\n",
              "  sentiment urgency            category  \\\n",
              "0  Positive  Medium     Technical Issue   \n",
              "1  Positive  Medium     Technical Issue   \n",
              "2     Error   Error               Error   \n",
              "3  Negative  Medium             Billing   \n",
              "4  Positive     Low     Feature Request   \n",
              "5  Negative  Medium     Technical Issue   \n",
              "6  Negative  Medium             Billing   \n",
              "7  Negative    High  Account Management   \n",
              "8     Error   Error               Error   \n",
              "9  Negative    High     Technical Issue   \n",
              "\n",
              "                                             summary error message  \n",
              "0  User is generally satisfied with FinanceManage...   NaN     NaN  \n",
              "1  User successfully resolved their StreamFlix pa...   NaN     NaN  \n",
              "2                                    Analysis failed   NaN     NaN  \n",
              "3  Invoice discrepancy causing billing issues for...   NaN     NaN  \n",
              "4  User requests file organization via labels, si...   NaN     NaN  \n",
              "5  Mobile authentication fails with error code 'A...   NaN     NaN  \n",
              "6  Customer is confused about a billing dispute f...   NaN     NaN  \n",
              "7  Customer is angry and frustrated about deletin...   NaN     NaN  \n",
              "8                                    Analysis failed   NaN     NaN  \n",
              "9  User reports critical data sync error between ...   NaN     NaN  "
            ],
            "text/html": [
              "\n",
              "  <div id=\"df-ef996632-902c-48a6-a73c-4a4f985b435b\" class=\"colab-df-container\">\n",
              "    <div>\n",
              "<style scoped>\n",
              "    .dataframe tbody tr th:only-of-type {\n",
              "        vertical-align: middle;\n",
              "    }\n",
              "\n",
              "    .dataframe tbody tr th {\n",
              "        vertical-align: top;\n",
              "    }\n",
              "\n",
              "    .dataframe thead th {\n",
              "        text-align: right;\n",
              "    }\n",
              "</style>\n",
              "<table border=\"1\" class=\"dataframe\">\n",
              "  <thead>\n",
              "    <tr style=\"text-align: right;\">\n",
              "      <th></th>\n",
              "      <th>ticket_id</th>\n",
              "      <th>product</th>\n",
              "      <th>ticket_text</th>\n",
              "      <th>generated_timestamp</th>\n",
              "      <th>sentiment</th>\n",
              "      <th>urgency</th>\n",
              "      <th>category</th>\n",
              "      <th>summary</th>\n",
              "      <th>error</th>\n",
              "      <th>message</th>\n",
              "    </tr>\n",
              "  </thead>\n",
              "  <tbody>\n",
              "    <tr>\n",
              "      <th>0</th>\n",
              "      <td>1</td>\n",
              "      <td>FinanceManager SaaS</td>\n",
              "      <td>Okay, user wants a realistic bug report for Fi...</td>\n",
              "      <td>2025-09-03 13:18:44</td>\n",
              "      <td>Positive</td>\n",
              "      <td>Medium</td>\n",
              "      <td>Technical Issue</td>\n",
              "      <td>User is generally satisfied with FinanceManage...</td>\n",
              "      <td>NaN</td>\n",
              "      <td>NaN</td>\n",
              "    </tr>\n",
              "    <tr>\n",
              "      <th>1</th>\n",
              "      <td>2</td>\n",
              "      <td>StreamFlix Subscription</td>\n",
              "      <td>Okay, user wants a realistic StreamFlix passwo...</td>\n",
              "      <td>2025-09-03 13:18:44</td>\n",
              "      <td>Positive</td>\n",
              "      <td>Medium</td>\n",
              "      <td>Technical Issue</td>\n",
              "      <td>User successfully resolved their StreamFlix pa...</td>\n",
              "      <td>NaN</td>\n",
              "      <td>NaN</td>\n",
              "    </tr>\n",
              "    <tr>\n",
              "      <th>2</th>\n",
              "      <td>3</td>\n",
              "      <td>HomeSecurity Hub</td>\n",
              "      <td>First, I need to understand the user's query. ...</td>\n",
              "      <td>2025-09-03 13:18:44</td>\n",
              "      <td>Error</td>\n",
              "      <td>Error</td>\n",
              "      <td>Error</td>\n",
              "      <td>Analysis failed</td>\n",
              "      <td>NaN</td>\n",
              "      <td>NaN</td>\n",
              "    </tr>\n",
              "    <tr>\n",
              "      <th>3</th>\n",
              "      <td>4</td>\n",
              "      <td>HomeSecurity Hub</td>\n",
              "      <td>First, I need to understand the user's query. ...</td>\n",
              "      <td>2025-09-03 13:18:44</td>\n",
              "      <td>Negative</td>\n",
              "      <td>Medium</td>\n",
              "      <td>Billing</td>\n",
              "      <td>Invoice discrepancy causing billing issues for...</td>\n",
              "      <td>NaN</td>\n",
              "      <td>NaN</td>\n",
              "    </tr>\n",
              "    <tr>\n",
              "      <th>4</th>\n",
              "      <td>5</td>\n",
              "      <td>OfficeSuite 365</td>\n",
              "      <td>Okay, let me tackle this query. The user wants...</td>\n",
              "      <td>2025-09-03 13:18:44</td>\n",
              "      <td>Positive</td>\n",
              "      <td>Low</td>\n",
              "      <td>Feature Request</td>\n",
              "      <td>User requests file organization via labels, si...</td>\n",
              "      <td>NaN</td>\n",
              "      <td>NaN</td>\n",
              "    </tr>\n",
              "    <tr>\n",
              "      <th>5</th>\n",
              "      <td>6</td>\n",
              "      <td>OfficeSuite 365</td>\n",
              "      <td>Okay, I'm looking at this query to generate a ...</td>\n",
              "      <td>2025-09-03 13:18:44</td>\n",
              "      <td>Negative</td>\n",
              "      <td>Medium</td>\n",
              "      <td>Technical Issue</td>\n",
              "      <td>Mobile authentication fails with error code 'A...</td>\n",
              "      <td>NaN</td>\n",
              "      <td>NaN</td>\n",
              "    </tr>\n",
              "    <tr>\n",
              "      <th>6</th>\n",
              "      <td>7</td>\n",
              "      <td>StreamFlix Subscription</td>\n",
              "      <td>Okay, let me tackle this query. The user wants...</td>\n",
              "      <td>2025-09-03 13:18:44</td>\n",
              "      <td>Negative</td>\n",
              "      <td>Medium</td>\n",
              "      <td>Billing</td>\n",
              "      <td>Customer is confused about a billing dispute f...</td>\n",
              "      <td>NaN</td>\n",
              "      <td>NaN</td>\n",
              "    </tr>\n",
              "    <tr>\n",
              "      <th>7</th>\n",
              "      <td>8</td>\n",
              "      <td>StreamFlix Subscription</td>\n",
              "      <td>Okay, so the user wants me to generate a reali...</td>\n",
              "      <td>2025-09-03 13:18:44</td>\n",
              "      <td>Negative</td>\n",
              "      <td>High</td>\n",
              "      <td>Account Management</td>\n",
              "      <td>Customer is angry and frustrated about deletin...</td>\n",
              "      <td>NaN</td>\n",
              "      <td>NaN</td>\n",
              "    </tr>\n",
              "    <tr>\n",
              "      <th>8</th>\n",
              "      <td>9</td>\n",
              "      <td>CloudSync Pro</td>\n",
              "      <td>Okay, let me think through this query carefull...</td>\n",
              "      <td>2025-09-03 13:18:44</td>\n",
              "      <td>Error</td>\n",
              "      <td>Error</td>\n",
              "      <td>Error</td>\n",
              "      <td>Analysis failed</td>\n",
              "      <td>NaN</td>\n",
              "      <td>NaN</td>\n",
              "    </tr>\n",
              "    <tr>\n",
              "      <th>9</th>\n",
              "      <td>10</td>\n",
              "      <td>ProjectFlow Manager</td>\n",
              "      <td>Okay, let me think through this request carefu...</td>\n",
              "      <td>2025-09-03 13:18:44</td>\n",
              "      <td>Negative</td>\n",
              "      <td>High</td>\n",
              "      <td>Technical Issue</td>\n",
              "      <td>User reports critical data sync error between ...</td>\n",
              "      <td>NaN</td>\n",
              "      <td>NaN</td>\n",
              "    </tr>\n",
              "  </tbody>\n",
              "</table>\n",
              "</div>\n",
              "    <div class=\"colab-df-buttons\">\n",
              "\n",
              "  <div class=\"colab-df-container\">\n",
              "    <button class=\"colab-df-convert\" onclick=\"convertToInteractive('df-ef996632-902c-48a6-a73c-4a4f985b435b')\"\n",
              "            title=\"Convert this dataframe to an interactive table.\"\n",
              "            style=\"display:none;\">\n",
              "\n",
              "  <svg xmlns=\"http://www.w3.org/2000/svg\" height=\"24px\" viewBox=\"0 -960 960 960\">\n",
              "    <path d=\"M120-120v-720h720v720H120Zm60-500h600v-160H180v160Zm220 220h160v-160H400v160Zm0 220h160v-160H400v160ZM180-400h160v-160H180v160Zm440 0h160v-160H620v160ZM180-180h160v-160H180v160Zm440 0h160v-160H620v160Z\"/>\n",
              "  </svg>\n",
              "    </button>\n",
              "\n",
              "  <style>\n",
              "    .colab-df-container {\n",
              "      display:flex;\n",
              "      gap: 12px;\n",
              "    }\n",
              "\n",
              "    .colab-df-convert {\n",
              "      background-color: #E8F0FE;\n",
              "      border: none;\n",
              "      border-radius: 50%;\n",
              "      cursor: pointer;\n",
              "      display: none;\n",
              "      fill: #1967D2;\n",
              "      height: 32px;\n",
              "      padding: 0 0 0 0;\n",
              "      width: 32px;\n",
              "    }\n",
              "\n",
              "    .colab-df-convert:hover {\n",
              "      background-color: #E2EBFA;\n",
              "      box-shadow: 0px 1px 2px rgba(60, 64, 67, 0.3), 0px 1px 3px 1px rgba(60, 64, 67, 0.15);\n",
              "      fill: #174EA6;\n",
              "    }\n",
              "\n",
              "    .colab-df-buttons div {\n",
              "      margin-bottom: 4px;\n",
              "    }\n",
              "\n",
              "    [theme=dark] .colab-df-convert {\n",
              "      background-color: #3B4455;\n",
              "      fill: #D2E3FC;\n",
              "    }\n",
              "\n",
              "    [theme=dark] .colab-df-convert:hover {\n",
              "      background-color: #434B5C;\n",
              "      box-shadow: 0px 1px 3px 1px rgba(0, 0, 0, 0.15);\n",
              "      filter: drop-shadow(0px 1px 2px rgba(0, 0, 0, 0.3));\n",
              "      fill: #FFFFFF;\n",
              "    }\n",
              "  </style>\n",
              "\n",
              "    <script>\n",
              "      const buttonEl =\n",
              "        document.querySelector('#df-ef996632-902c-48a6-a73c-4a4f985b435b button.colab-df-convert');\n",
              "      buttonEl.style.display =\n",
              "        google.colab.kernel.accessAllowed ? 'block' : 'none';\n",
              "\n",
              "      async function convertToInteractive(key) {\n",
              "        const element = document.querySelector('#df-ef996632-902c-48a6-a73c-4a4f985b435b');\n",
              "        const dataTable =\n",
              "          await google.colab.kernel.invokeFunction('convertToInteractive',\n",
              "                                                    [key], {});\n",
              "        if (!dataTable) return;\n",
              "\n",
              "        const docLinkHtml = 'Like what you see? Visit the ' +\n",
              "          '<a target=\"_blank\" href=https://colab.research.google.com/notebooks/data_table.ipynb>data table notebook</a>'\n",
              "          + ' to learn more about interactive tables.';\n",
              "        element.innerHTML = '';\n",
              "        dataTable['output_type'] = 'display_data';\n",
              "        await google.colab.output.renderOutput(dataTable, element);\n",
              "        const docLink = document.createElement('div');\n",
              "        docLink.innerHTML = docLinkHtml;\n",
              "        element.appendChild(docLink);\n",
              "      }\n",
              "    </script>\n",
              "  </div>\n",
              "\n",
              "\n",
              "    <div id=\"df-596b97e5-7101-48af-b7db-e72927b8e558\">\n",
              "      <button class=\"colab-df-quickchart\" onclick=\"quickchart('df-596b97e5-7101-48af-b7db-e72927b8e558')\"\n",
              "                title=\"Suggest charts\"\n",
              "                style=\"display:none;\">\n",
              "\n",
              "<svg xmlns=\"http://www.w3.org/2000/svg\" height=\"24px\"viewBox=\"0 0 24 24\"\n",
              "     width=\"24px\">\n",
              "    <g>\n",
              "        <path d=\"M19 3H5c-1.1 0-2 .9-2 2v14c0 1.1.9 2 2 2h14c1.1 0 2-.9 2-2V5c0-1.1-.9-2-2-2zM9 17H7v-7h2v7zm4 0h-2V7h2v10zm4 0h-2v-4h2v4z\"/>\n",
              "    </g>\n",
              "</svg>\n",
              "      </button>\n",
              "\n",
              "<style>\n",
              "  .colab-df-quickchart {\n",
              "      --bg-color: #E8F0FE;\n",
              "      --fill-color: #1967D2;\n",
              "      --hover-bg-color: #E2EBFA;\n",
              "      --hover-fill-color: #174EA6;\n",
              "      --disabled-fill-color: #AAA;\n",
              "      --disabled-bg-color: #DDD;\n",
              "  }\n",
              "\n",
              "  [theme=dark] .colab-df-quickchart {\n",
              "      --bg-color: #3B4455;\n",
              "      --fill-color: #D2E3FC;\n",
              "      --hover-bg-color: #434B5C;\n",
              "      --hover-fill-color: #FFFFFF;\n",
              "      --disabled-bg-color: #3B4455;\n",
              "      --disabled-fill-color: #666;\n",
              "  }\n",
              "\n",
              "  .colab-df-quickchart {\n",
              "    background-color: var(--bg-color);\n",
              "    border: none;\n",
              "    border-radius: 50%;\n",
              "    cursor: pointer;\n",
              "    display: none;\n",
              "    fill: var(--fill-color);\n",
              "    height: 32px;\n",
              "    padding: 0;\n",
              "    width: 32px;\n",
              "  }\n",
              "\n",
              "  .colab-df-quickchart:hover {\n",
              "    background-color: var(--hover-bg-color);\n",
              "    box-shadow: 0 1px 2px rgba(60, 64, 67, 0.3), 0 1px 3px 1px rgba(60, 64, 67, 0.15);\n",
              "    fill: var(--button-hover-fill-color);\n",
              "  }\n",
              "\n",
              "  .colab-df-quickchart-complete:disabled,\n",
              "  .colab-df-quickchart-complete:disabled:hover {\n",
              "    background-color: var(--disabled-bg-color);\n",
              "    fill: var(--disabled-fill-color);\n",
              "    box-shadow: none;\n",
              "  }\n",
              "\n",
              "  .colab-df-spinner {\n",
              "    border: 2px solid var(--fill-color);\n",
              "    border-color: transparent;\n",
              "    border-bottom-color: var(--fill-color);\n",
              "    animation:\n",
              "      spin 1s steps(1) infinite;\n",
              "  }\n",
              "\n",
              "  @keyframes spin {\n",
              "    0% {\n",
              "      border-color: transparent;\n",
              "      border-bottom-color: var(--fill-color);\n",
              "      border-left-color: var(--fill-color);\n",
              "    }\n",
              "    20% {\n",
              "      border-color: transparent;\n",
              "      border-left-color: var(--fill-color);\n",
              "      border-top-color: var(--fill-color);\n",
              "    }\n",
              "    30% {\n",
              "      border-color: transparent;\n",
              "      border-left-color: var(--fill-color);\n",
              "      border-top-color: var(--fill-color);\n",
              "      border-right-color: var(--fill-color);\n",
              "    }\n",
              "    40% {\n",
              "      border-color: transparent;\n",
              "      border-right-color: var(--fill-color);\n",
              "      border-top-color: var(--fill-color);\n",
              "    }\n",
              "    60% {\n",
              "      border-color: transparent;\n",
              "      border-right-color: var(--fill-color);\n",
              "    }\n",
              "    80% {\n",
              "      border-color: transparent;\n",
              "      border-right-color: var(--fill-color);\n",
              "      border-bottom-color: var(--fill-color);\n",
              "    }\n",
              "    90% {\n",
              "      border-color: transparent;\n",
              "      border-bottom-color: var(--fill-color);\n",
              "    }\n",
              "  }\n",
              "</style>\n",
              "\n",
              "      <script>\n",
              "        async function quickchart(key) {\n",
              "          const quickchartButtonEl =\n",
              "            document.querySelector('#' + key + ' button');\n",
              "          quickchartButtonEl.disabled = true;  // To prevent multiple clicks.\n",
              "          quickchartButtonEl.classList.add('colab-df-spinner');\n",
              "          try {\n",
              "            const charts = await google.colab.kernel.invokeFunction(\n",
              "                'suggestCharts', [key], {});\n",
              "          } catch (error) {\n",
              "            console.error('Error during call to suggestCharts:', error);\n",
              "          }\n",
              "          quickchartButtonEl.classList.remove('colab-df-spinner');\n",
              "          quickchartButtonEl.classList.add('colab-df-quickchart-complete');\n",
              "        }\n",
              "        (() => {\n",
              "          let quickchartButtonEl =\n",
              "            document.querySelector('#df-596b97e5-7101-48af-b7db-e72927b8e558 button');\n",
              "          quickchartButtonEl.style.display =\n",
              "            google.colab.kernel.accessAllowed ? 'block' : 'none';\n",
              "        })();\n",
              "      </script>\n",
              "    </div>\n",
              "\n",
              "    </div>\n",
              "  </div>\n"
            ],
            "application/vnd.google.colaboratory.intrinsic+json": {
              "type": "dataframe",
              "variable_name": "df",
              "summary": "{\n  \"name\": \"df\",\n  \"rows\": 1200,\n  \"fields\": [\n    {\n      \"column\": \"ticket_id\",\n      \"properties\": {\n        \"dtype\": \"number\",\n        \"std\": 346,\n        \"min\": 1,\n        \"max\": 1200,\n        \"num_unique_values\": 1200,\n        \"samples\": [\n          1179,\n          866,\n          102\n        ],\n        \"semantic_type\": \"\",\n        \"description\": \"\"\n      }\n    },\n    {\n      \"column\": \"product\",\n      \"properties\": {\n        \"dtype\": \"category\",\n        \"num_unique_values\": 10,\n        \"samples\": [\n          \"EmailShield Security\",\n          \"StreamFlix Subscription\",\n          \"ProjectFlow Manager\"\n        ],\n        \"semantic_type\": \"\",\n        \"description\": \"\"\n      }\n    },\n    {\n      \"column\": \"ticket_text\",\n      \"properties\": {\n        \"dtype\": \"string\",\n        \"num_unique_values\": 1200,\n        \"samples\": [\n          \"Okay, user wants a realistic OfficeSuite 365 support ticket about a feature that's not working. They specifically asked for frustration tone and concrete details like error messages, account IDs, etc., while keeping it short - max 2-3 sentences. Hmm, looking at the query again... user seems to be preparing some customer-facing material or maybe testing how I handle frustrated users? The request is pretty clear about technical specificity but also emotional realism.\",\n          \"First, I need to understand the user's query. They're asking me to generate a customer support ticket for 'StreamFlix Subscription' involving a 'billing dispute', but specifically, the customer should sound happy. That seems counterintuitive because billing disputes are usually frustrating, so my job is to handle this creative twist by making the customer scenario positive despite the issue. I'm considering the user's identity\\u2014they're probably someone testing AI responses or evaluating how systems handle unusual requests, like keeping a negative topic upbeat for better user experience studies. The actual need here might be to simulate an atypical support case where dissatisfaction is masked as happiness, perhaps to explore emotional intelligence in AI interactions or for training purposes.\",\n          \"Okay, let's tackle this user query. They want a realistic customer support ticket for DataBackup Pro about a feature request, with the customer sounding happy. First, I need to consider what makes a good feature request template. The key elements should include account ID, timestamp, and specific feature details since those were requested in the original response.\"\n        ],\n        \"semantic_type\": \"\",\n        \"description\": \"\"\n      }\n    },\n    {\n      \"column\": \"generated_timestamp\",\n      \"properties\": {\n        \"dtype\": \"object\",\n        \"num_unique_values\": 1,\n        \"samples\": [\n          \"2025-09-03 13:18:44\"\n        ],\n        \"semantic_type\": \"\",\n        \"description\": \"\"\n      }\n    },\n    {\n      \"column\": \"sentiment\",\n      \"properties\": {\n        \"dtype\": \"category\",\n        \"num_unique_values\": 6,\n        \"samples\": [\n          \"Positive\"\n        ],\n        \"semantic_type\": \"\",\n        \"description\": \"\"\n      }\n    },\n    {\n      \"column\": \"urgency\",\n      \"properties\": {\n        \"dtype\": \"category\",\n        \"num_unique_values\": 6,\n        \"samples\": [\n          \"Medium\"\n        ],\n        \"semantic_type\": \"\",\n        \"description\": \"\"\n      }\n    },\n    {\n      \"column\": \"category\",\n      \"properties\": {\n        \"dtype\": \"category\",\n        \"num_unique_values\": 15,\n        \"samples\": [\n          \"Other\"\n        ],\n        \"semantic_type\": \"\",\n        \"description\": \"\"\n      }\n    },\n    {\n      \"column\": \"summary\",\n      \"properties\": {\n        \"dtype\": \"string\",\n        \"num_unique_values\": 1103,\n        \"samples\": [\n          \"App crashes immediately during streaming.\"\n        ],\n        \"semantic_type\": \"\",\n        \"description\": \"\"\n      }\n    },\n    {\n      \"column\": \"error\",\n      \"properties\": {\n        \"dtype\": \"category\",\n        \"num_unique_values\": 4,\n        \"samples\": [\n          \"Insufficient data provided. A ticket text is required for analysis.\"\n        ],\n        \"semantic_type\": \"\",\n        \"description\": \"\"\n      }\n    },\n    {\n      \"column\": \"message\",\n      \"properties\": {\n        \"dtype\": \"category\",\n        \"num_unique_values\": 2,\n        \"samples\": [\n          \"No ticket text provided for analysis.\"\n        ],\n        \"semantic_type\": \"\",\n        \"description\": \"\"\n      }\n    }\n  ]\n}"
            }
          },
          "metadata": {},
          "execution_count": 15
        }
      ]
    },
    {
      "source": [
        "df.groupby('sentiment').size().plot(kind='barh', color=sns.palettes.mpl_palette('Dark2'))\n",
        "plt.gca().spines[['top', 'right',]].set_visible(False)"
      ],
      "cell_type": "code",
      "metadata": {
        "colab": {
          "base_uri": "https://localhost:8080/",
          "height": 430
        },
        "id": "hj4eTD0pDL1d",
        "outputId": "da7a318a-1fd0-4f2b-fd66-220457ef223a"
      },
      "execution_count": 16,
      "outputs": [
        {
          "output_type": "display_data",
          "data": {
            "text/plain": [
              "<Figure size 640x480 with 1 Axes>"
            ],
            "image/png": "[encoded data removed]"
          },
          "metadata": {}
        }
      ]
    },
    {
      "source": [
        "df.groupby('product').size().plot(kind='barh', color=sns.palettes.mpl_palette('Dark2'))\n",
        "plt.gca().spines[['top', 'right',]].set_visible(False)"
      ],
      "cell_type": "code",
      "metadata": {
        "colab": {
          "base_uri": "https://localhost:8080/",
          "height": 430
        },
        "id": "cKzqf4RqDCy0",
        "outputId": "dae88fd3-269e-4263-8399-00be432e7c3d"
      },
      "execution_count": 17,
      "outputs": [
        {
          "output_type": "display_data",
          "data": {
            "text/plain": [
              "<Figure size 640x480 with 1 Axes>"
            ],
            "image/png": "[encoded data removed]"
          },
          "metadata": {}
        }
      ]
    },
    {
      "source": [
        "df.groupby('category').size().plot(kind='barh', color=sns.palettes.mpl_palette('Dark2'))\n",
        "plt.gca().spines[['top', 'right',]].set_visible(False)"
      ],
      "cell_type": "code",
      "metadata": {
        "colab": {
          "base_uri": "https://localhost:8080/",
          "height": 430
        },
        "id": "vGn1VwSEC_zL",
        "outputId": "fa2f24bc-513d-4683-d195-16b38dad6e4d"
      },
      "execution_count": 18,
      "outputs": [
        {
          "output_type": "display_data",
          "data": {
            "text/plain": [
              "<Figure size 640x480 with 1 Axes>"
            ],
            "image/png": "[encoded data removed]"
          },
          "metadata": {}
        }
      ]
    },
    {
      "source": [
        "df.groupby('urgency').size().plot(kind='barh', color=sns.palettes.mpl_palette('Dark2'))\n",
        "plt.gca().spines[['top', 'right',]].set_visible(False)"
      ],
      "cell_type": "code",
      "metadata": {
        "colab": {
          "base_uri": "https://localhost:8080/",
          "height": 430
        },
        "id": "GCXjhwFeC5jS",
        "outputId": "0a582449-9588-438d-d9f4-36ab044feae3"
      },
      "execution_count": 19,
      "outputs": [
        {
          "output_type": "display_data",
          "data": {
            "text/plain": [
              "<Figure size 640x480 with 1 Axes>"
            ],
            "image/png": "[encoded data removed]"
          },
          "metadata": {}
        }
      ]
    },
    {
      "cell_type": "code",
      "source": [
        "# Drop useless columns (error logs from analysis step)\n",
        "df = df.drop(columns=[\"error\", \"message\"], errors=\"ignore\")\n",
        "\n",
        "# Keep only the relevant columns\n",
        "expected_cols = [\"ticket_id\", \"ticket_text\", \"sentiment\", \"urgency\", \"category\", \"summary\"]\n",
        "df = df[[col for col in df.columns if col in expected_cols]]\n",
        "\n",
        "# Drop rows where key fields are missing\n",
        "df.dropna(subset=[\"ticket_text\", \"sentiment\", \"urgency\", \"category\"], inplace=True)\n",
        "\n",
        "print(f\"✅ Dataset loaded with {len(df)} valid rows\")\n",
        "print(\"📊 Columns available:\", df.columns.tolist())\n",
        "\n",
        "# Quick sanity check on labels\n",
        "print(\"\\n😊 Sentiment distribution:\")\n",
        "print(df[\"sentiment\"].value_counts())\n",
        "print(\"\\n🚨 Urgency distribution:\")\n",
        "print(df[\"urgency\"].value_counts())\n",
        "print(\"\\n📋 Category distribution:\")\n",
        "print(df[\"category\"].value_counts())\n"
      ],
      "metadata": {
        "colab": {
          "base_uri": "https://localhost:8080/"
        },
        "id": "-xi32M86F0eU",
        "outputId": "1b0d26f7-72fd-48d9-a462-7a20cbf7f415"
      },
      "execution_count": 20,
      "outputs": [
        {
          "output_type": "stream",
          "name": "stdout",
          "text": [
            "✅ Dataset loaded with 1196 valid rows\n",
            "📊 Columns available: ['ticket_id', 'ticket_text', 'sentiment', 'urgency', 'category', 'summary']\n",
            "\n",
            "😊 Sentiment distribution:\n",
            "sentiment\n",
            "Negative                 680\n",
            "Positive                 237\n",
            "Neutral                  213\n",
            "Error                     64\n",
            "No sentiment detected      1\n",
            "Unknown                    1\n",
            "Name: count, dtype: int64\n",
            "\n",
            "🚨 Urgency distribution:\n",
            "urgency\n",
            "Medium                 535\n",
            "High                   310\n",
            "Low                    285\n",
            "Error                   64\n",
            "No urgency detected      1\n",
            "Unknown                  1\n",
            "Name: count, dtype: int64\n",
            "\n",
            "📋 Category distribution:\n",
            "category\n",
            "Technical Issue                281\n",
            "Billing                        185\n",
            "Account Management             163\n",
            "Bug Report                     162\n",
            "Login Issue                    123\n",
            "Feature Request                 85\n",
            "Payment Issue                   79\n",
            "Error                           64\n",
            "Other                           47\n",
            "Subscription Renewal             2\n",
            "Billing Dispute (Technical)      1\n",
            "Password Issue                   1\n",
            "No category detected             1\n",
            "Subscription Renewal Issue       1\n",
            "Billing Issue                    1\n",
            "Name: count, dtype: int64\n"
          ]
        }
      ]
    },
    {
      "cell_type": "code",
      "source": [
        "# ================================\n",
        "# 1. Extra Cleaning of Labels\n",
        "# ================================\n",
        "\n",
        "# Drop junk values in sentiment & urgency\n",
        "invalid_sentiments = [\"Error\", \"No sentiment detected\", \"Unknown\"]\n",
        "invalid_urgency = [\"Error\", \"No urgency detected\", \"Unknown\"]\n",
        "invalid_category = [\"Error\", \"No category detected\"]\n",
        "\n",
        "df = df[~df[\"sentiment\"].isin(invalid_sentiments)]\n",
        "df = df[~df[\"urgency\"].isin(invalid_urgency)]\n",
        "df = df[~df[\"category\"].isin(invalid_category)]\n",
        "\n",
        "# Handle rare categories: merge into \"Other\"\n",
        "category_counts = df[\"category\"].value_counts()\n",
        "rare_categories = category_counts[category_counts < 5].index\n",
        "df[\"category\"] = df[\"category\"].replace(rare_categories, \"Other\")\n",
        "\n",
        "print(f\"✅ After cleaning, dataset has {len(df)} rows\")\n",
        "\n",
        "# Re-check label balance\n",
        "print(\"\\n😊 Sentiment distribution:\")\n",
        "print(df[\"sentiment\"].value_counts())\n",
        "print(\"\\n🚨 Urgency distribution:\")\n",
        "print(df[\"urgency\"].value_counts())\n",
        "print(\"\\n📋 Category distribution:\")\n",
        "print(df[\"category\"].value_counts())\n"
      ],
      "metadata": {
        "colab": {
          "base_uri": "https://localhost:8080/"
        },
        "id": "KVUS9AnLF3F5",
        "outputId": "df4c268d-2699-40b9-ce27-639ed4b40622"
      },
      "execution_count": 21,
      "outputs": [
        {
          "output_type": "stream",
          "name": "stdout",
          "text": [
            "✅ After cleaning, dataset has 1130 rows\n",
            "\n",
            "😊 Sentiment distribution:\n",
            "sentiment\n",
            "Negative    680\n",
            "Positive    237\n",
            "Neutral     213\n",
            "Name: count, dtype: int64\n",
            "\n",
            "🚨 Urgency distribution:\n",
            "urgency\n",
            "Medium    535\n",
            "High      310\n",
            "Low       285\n",
            "Name: count, dtype: int64\n",
            "\n",
            "📋 Category distribution:\n",
            "category\n",
            "Technical Issue       281\n",
            "Billing               185\n",
            "Account Management    163\n",
            "Bug Report            162\n",
            "Login Issue           123\n",
            "Feature Request        85\n",
            "Payment Issue          79\n",
            "Other                  52\n",
            "Name: count, dtype: int64\n"
          ]
        }
      ]
    },
    {
      "cell_type": "code",
      "source": [
        "%pip install catboost"
      ],
      "metadata": {
        "colab": {
          "base_uri": "https://localhost:8080/"
        },
        "id": "q-j4ebbzIYE9",
        "outputId": "0f1f824b-c85f-4458-a004-ea4fc3b7f528"
      },
      "execution_count": 22,
      "outputs": [
        {
          "output_type": "stream",
          "name": "stdout",
          "text": [
            "Requirement already satisfied: catboost in /usr/local/lib/python3.12/dist-packages (1.2.8)\n",
            "Requirement already satisfied: graphviz in /usr/local/lib/python3.12/dist-packages (from catboost) (0.21)\n",
            "Requirement already satisfied: matplotlib in /usr/local/lib/python3.12/dist-packages (from catboost) (3.10.0)\n",
            "Requirement already satisfied: numpy<3.0,>=1.16.0 in /usr/local/lib/python3.12/dist-packages (from catboost) (2.0.2)\n",
            "Requirement already satisfied: pandas>=0.24 in /usr/local/lib/python3.12/dist-packages (from catboost) (2.2.2)\n",
            "Requirement already satisfied: scipy in /usr/local/lib/python3.12/dist-packages (from catboost) (1.16.1)\n",
            "Requirement already satisfied: plotly in /usr/local/lib/python3.12/dist-packages (from catboost) (5.24.1)\n",
            "Requirement already satisfied: six in /usr/local/lib/python3.12/dist-packages (from catboost) (1.17.0)\n",
            "Requirement already satisfied: python-dateutil>=2.8.2 in /usr/local/lib/python3.12/dist-packages (from pandas>=0.24->catboost) (2.9.0.post0)\n",
            "Requirement already satisfied: pytz>=2020.1 in /usr/local/lib/python3.12/dist-packages (from pandas>=0.24->catboost) (2025.2)\n",
            "Requirement already satisfied: tzdata>=2022.7 in /usr/local/lib/python3.12/dist-packages (from pandas>=0.24->catboost) (2025.2)\n",
            "Requirement already satisfied: contourpy>=1.0.1 in /usr/local/lib/python3.12/dist-packages (from matplotlib->catboost) (1.3.3)\n",
            "Requirement already satisfied: cycler>=0.10 in /usr/local/lib/python3.12/dist-packages (from matplotlib->catboost) (0.12.1)\n",
            "Requirement already satisfied: fonttools>=4.22.0 in /usr/local/lib/python3.12/dist-packages (from matplotlib->catboost) (4.59.2)\n",
            "Requirement already satisfied: kiwisolver>=1.3.1 in /usr/local/lib/python3.12/dist-packages (from matplotlib->catboost) (1.4.9)\n",
            "Requirement already satisfied: packaging>=20.0 in /usr/local/lib/python3.12/dist-packages (from matplotlib->catboost) (25.0)\n",
            "Requirement already satisfied: pillow>=8 in /usr/local/lib/python3.12/dist-packages (from matplotlib->catboost) (11.3.0)\n",
            "Requirement already satisfied: pyparsing>=2.3.1 in /usr/local/lib/python3.12/dist-packages (from matplotlib->catboost) (3.2.3)\n",
            "Requirement already satisfied: tenacity>=6.2.0 in /usr/local/lib/python3.12/dist-packages (from plotly->catboost) (8.5.0)\n"
          ]
        }
      ]
    },
    {
      "cell_type": "code",
      "source": [
        "# ================================\n",
        "# 2. Candidate Models\n",
        "# ================================\n",
        "from sklearn.linear_model import LogisticRegression\n",
        "from sklearn.naive_bayes import MultinomialNB\n",
        "from sklearn.ensemble import RandomForestClassifier\n",
        "from sklearn.svm import LinearSVC\n",
        "from xgboost import XGBClassifier\n",
        "from catboost import CatBoostClassifier\n",
        "\n",
        "model_candidates = {\n",
        "    \"LogReg\": LogisticRegression(max_iter=1000, class_weight=\"balanced\"),\n",
        "    \"NaiveBayes\": MultinomialNB(),\n",
        "    \"RandomForest\": RandomForestClassifier(n_estimators=200, class_weight=\"balanced\", random_state=42),\n",
        "    \"LinearSVC\": LinearSVC(class_weight=\"balanced\"),\n",
        "    \"XGBoost\": XGBClassifier(eval_metric=\"mlogloss\", use_label_encoder=False, random_state=42),\n",
        "    \"CatBoost\": CatBoostClassifier(verbose=0, random_state=42)\n",
        "}\n",
        "\n",
        "# ================================\n",
        "# 3. Training & Evaluation Function\n",
        "# ================================\n",
        "from sklearn.model_selection import train_test_split\n",
        "from sklearn.feature_extraction.text import TfidfVectorizer\n",
        "from sklearn.pipeline import Pipeline\n",
        "from sklearn.metrics import classification_report, accuracy_score, f1_score, confusion_matrix\n",
        "from sklearn.preprocessing import LabelEncoder\n",
        "import matplotlib.pyplot as plt\n",
        "import seaborn as sns\n",
        "import os, joblib\n",
        "import pandas as pd\n",
        "\n",
        "os.makedirs(\"models\", exist_ok=True)\n",
        "os.makedirs(\"figures\", exist_ok=True)\n",
        "\n",
        "def benchmark_models(target_col, task_name):\n",
        "    print(f\"\\n🎯 Task: {task_name} (predicting {target_col})\")\n",
        "\n",
        "    X = df[\"ticket_text\"]\n",
        "    y = df[target_col]\n",
        "\n",
        "    if len(y.unique()) < 2:\n",
        "        print(f\"⚠️ Skipping {task_name}: only one class available.\")\n",
        "        return pd.DataFrame()\n",
        "\n",
        "    # Encode labels\n",
        "    le = LabelEncoder()\n",
        "    y_encoded = le.fit_transform(y)\n",
        "\n",
        "    # Train/test split\n",
        "    X_train, X_test, y_train_encoded, y_test_encoded = train_test_split(\n",
        "        X, y_encoded, test_size=0.2, random_state=42, stratify=y_encoded\n",
        "    )\n",
        "\n",
        "    results = []\n",
        "\n",
        "    for model_name, model in model_candidates.items():\n",
        "        print(f\"\\n🚀 Training {model_name}...\")\n",
        "        pipeline = Pipeline([\n",
        "            (\"tfidf\", TfidfVectorizer(stop_words=\"english\", max_features=5000)),\n",
        "            (\"clf\", model)\n",
        "        ])\n",
        "\n",
        "        pipeline.fit(X_train, y_train_encoded)\n",
        "        y_pred_encoded = pipeline.predict(X_test)\n",
        "\n",
        "        # Decode back\n",
        "        y_pred = le.inverse_transform(y_pred_encoded)\n",
        "        y_test_decoded = le.inverse_transform(y_test_encoded)\n",
        "\n",
        "        acc = accuracy_score(y_test_decoded, y_pred)\n",
        "        f1 = f1_score(y_test_decoded, y_pred, average=\"weighted\")\n",
        "\n",
        "        # ✅ Print only short summary\n",
        "        print(f\"✅ {model_name}: Accuracy={acc:.3f}, F1={f1:.3f}\")\n",
        "\n",
        "        # Save detailed classification report to file\n",
        "        report_path = f\"figures/{task_name.lower()}_{model_name}_report.txt\"\n",
        "        with open(report_path, \"w\") as rep_file:\n",
        "            rep_file.write(classification_report(y_test_decoded, y_pred))\n",
        "\n",
        "        # Save confusion matrix\n",
        "        cm = confusion_matrix(y_test_decoded, y_pred, labels=le.classes_)\n",
        "        plt.figure(figsize=(8, 6))\n",
        "        sns.heatmap(cm, annot=True, fmt=\"d\", cmap=\"Blues\",\n",
        "                    xticklabels=le.classes_,\n",
        "                    yticklabels=le.classes_)\n",
        "        plt.title(f\"{task_name} - {model_name} Confusion Matrix\")\n",
        "        plt.xlabel(\"Predicted\")\n",
        "        plt.ylabel(\"True\")\n",
        "        plt.tight_layout()\n",
        "        cm_path = f\"figures/{task_name.lower()}_{model_name}_cm.png\"\n",
        "        plt.savefig(cm_path, dpi=300)\n",
        "        plt.close()\n",
        "\n",
        "        results.append({\n",
        "            \"Task\": task_name,\n",
        "            \"Model\": model_name,\n",
        "            \"Accuracy\": round(acc, 4),\n",
        "            \"F1\": round(f1, 4)\n",
        "        })\n",
        "\n",
        "    # Pick best model\n",
        "    results_df = pd.DataFrame(results)\n",
        "    best_row = results_df.sort_values(\"F1\", ascending=False).iloc[0]\n",
        "\n",
        "    best_model_name = best_row[\"Model\"]\n",
        "    print(f\"\\n🏆 Best model for {task_name}: {best_model_name} (F1={best_row['F1']:.3f})\")\n",
        "\n",
        "    # Retrain on full dataset\n",
        "    best_model = model_candidates[best_model_name]\n",
        "    best_pipeline = Pipeline([\n",
        "        (\"tfidf\", TfidfVectorizer(stop_words=\"english\", max_features=5000)),\n",
        "        (\"clf\", best_model)\n",
        "    ])\n",
        "    best_pipeline.fit(X, y_encoded)\n",
        "\n",
        "    # Save best model\n",
        "    model_path = f\"models/{task_name.lower()}_best.joblib\"\n",
        "    joblib.dump(best_pipeline, model_path)\n",
        "    print(f\"💾 Saved best {task_name} model → {model_path}\")\n",
        "\n",
        "    return results_df\n",
        "\n",
        "# ================================\n",
        "# 4. Run Benchmarks\n",
        "# ================================\n",
        "results_sentiment = benchmark_models(\"sentiment\", \"Sentiment\")\n",
        "results_urgency = benchmark_models(\"urgency\", \"Urgency\")\n",
        "results_category = benchmark_models(\"category\", \"Category\")\n",
        "\n",
        "all_results = pd.concat([results_sentiment, results_urgency, results_category], ignore_index=True)\n",
        "print(\"\\n📊 Benchmark Results:\")\n",
        "print(all_results)\n",
        "\n",
        "all_results.to_csv(\"benchmark_results.csv\", index=False)\n",
        "print(\"💾 Saved benchmark results → benchmark_results.csv\")\n",
        "\n",
        "# ================================\n",
        "# 5. Generate Evaluation Report\n",
        "# ================================\n",
        "report_path = \"evaluation_report.md\"\n",
        "with open(report_path, \"w\") as f:\n",
        "    f.write(\"# 📊 Model Evaluation Report\\n\\n\")\n",
        "    f.write(\"This report summarizes the benchmarking results for the Sentiment, Urgency, and Category classification tasks.\\n\\n\")\n",
        "\n",
        "    f.write(\"## 🏆 Best Models Per Task\\n\\n\")\n",
        "    for task in [\"Sentiment\", \"Urgency\", \"Category\"]:\n",
        "        task_results = all_results[all_results[\"Task\"] == task]\n",
        "        if not task_results.empty:\n",
        "            best_row = task_results.sort_values(\"F1\", ascending=False).iloc[0]\n",
        "            f.write(f\"- **{task}** → {best_row['Model']} (Accuracy={best_row['Accuracy']:.2f}, F1={best_row['F1']:.2f})\\n\")\n",
        "    f.write(\"\\n\")\n",
        "\n",
        "    f.write(\"## 📋 Full Benchmark Results\\n\\n\")\n",
        "    f.write(all_results.to_markdown(index=False))\n",
        "    f.write(\"\\n\\n\")\n",
        "\n",
        "    f.write(\"## 🔎 Confusion Matrices & Reports\\n\")\n",
        "    f.write(\"Confusion matrices (`.png`) and detailed classification reports (`.txt`) for each model are saved in the `figures/` directory.\\n\")\n",
        "\n",
        "print(f\"💾 Saved evaluation report → {report_path}\")\n"
      ],
      "metadata": {
        "colab": {
          "base_uri": "https://localhost:8080/"
        },
        "id": "7ya3JIJvThuA",
        "outputId": "cac63562-4264-41c8-f995-f13b77ed4caf"
      },
      "execution_count": 24,
      "outputs": [
        {
          "output_type": "stream",
          "name": "stdout",
          "text": [
            "\n",
            "🎯 Task: Sentiment (predicting sentiment)\n",
            "\n",
            "🚀 Training LogReg...\n",
            "✅ LogReg: Accuracy=0.801, F1=0.795\n",
            "\n",
            "🚀 Training NaiveBayes...\n",
            "✅ NaiveBayes: Accuracy=0.624, F1=0.504\n"
          ]
        },
        {
          "output_type": "stream",
          "name": "stderr",
          "text": [
            "/usr/local/lib/python3.12/dist-packages/sklearn/metrics/_classification.py:1565: UndefinedMetricWarning: Precision is ill-defined and being set to 0.0 in labels with no predicted samples. Use `zero_division` parameter to control this behavior.\n",
            "  _warn_prf(average, modifier, f\"{metric.capitalize()} is\", len(result))\n",
            "/usr/local/lib/python3.12/dist-packages/sklearn/metrics/_classification.py:1565: UndefinedMetricWarning: Precision is ill-defined and being set to 0.0 in labels with no predicted samples. Use `zero_division` parameter to control this behavior.\n",
            "  _warn_prf(average, modifier, f\"{metric.capitalize()} is\", len(result))\n",
            "/usr/local/lib/python3.12/dist-packages/sklearn/metrics/_classification.py:1565: UndefinedMetricWarning: Precision is ill-defined and being set to 0.0 in labels with no predicted samples. Use `zero_division` parameter to control this behavior.\n",
            "  _warn_prf(average, modifier, f\"{metric.capitalize()} is\", len(result))\n"
          ]
        },
        {
          "output_type": "stream",
          "name": "stdout",
          "text": [
            "\n",
            "🚀 Training RandomForest...\n",
            "✅ RandomForest: Accuracy=0.783, F1=0.739\n",
            "\n",
            "🚀 Training LinearSVC...\n",
            "✅ LinearSVC: Accuracy=0.792, F1=0.781\n",
            "\n",
            "🚀 Training XGBoost...\n"
          ]
        },
        {
          "output_type": "stream",
          "name": "stderr",
          "text": [
            "/usr/local/lib/python3.12/dist-packages/xgboost/training.py:183: UserWarning: [13:57:48] WARNING: /workspace/src/learner.cc:738: \n",
            "Parameters: { \"use_label_encoder\" } are not used.\n",
            "\n",
            "  bst.update(dtrain, iteration=i, fobj=obj)\n"
          ]
        },
        {
          "output_type": "stream",
          "name": "stdout",
          "text": [
            "✅ XGBoost: Accuracy=0.832, F1=0.826\n",
            "\n",
            "🚀 Training CatBoost...\n"
          ]
        },
        {
          "output_type": "stream",
          "name": "stderr",
          "text": [
            "/usr/local/lib/python3.12/dist-packages/sklearn/preprocessing/_label.py:151: DataConversionWarning: A column-vector y was passed when a 1d array was expected. Please change the shape of y to (n_samples, ), for example using ravel().\n",
            "  y = column_or_1d(y, warn=True)\n"
          ]
        },
        {
          "output_type": "stream",
          "name": "stdout",
          "text": [
            "✅ CatBoost: Accuracy=0.836, F1=0.827\n",
            "\n",
            "🏆 Best model for Sentiment: CatBoost (F1=0.827)\n",
            "💾 Saved best Sentiment model → models/sentiment_best.joblib\n",
            "\n",
            "🎯 Task: Urgency (predicting urgency)\n",
            "\n",
            "🚀 Training LogReg...\n",
            "✅ LogReg: Accuracy=0.588, F1=0.587\n",
            "\n",
            "🚀 Training NaiveBayes...\n",
            "✅ NaiveBayes: Accuracy=0.482, F1=0.324\n",
            "\n",
            "🚀 Training RandomForest...\n",
            "✅ RandomForest: Accuracy=0.584, F1=0.556\n",
            "\n",
            "🚀 Training LinearSVC...\n",
            "✅ LinearSVC: Accuracy=0.615, F1=0.615\n",
            "\n",
            "🚀 Training XGBoost...\n"
          ]
        },
        {
          "output_type": "stream",
          "name": "stderr",
          "text": [
            "/usr/local/lib/python3.12/dist-packages/xgboost/training.py:183: UserWarning: [14:01:08] WARNING: /workspace/src/learner.cc:738: \n",
            "Parameters: { \"use_label_encoder\" } are not used.\n",
            "\n",
            "  bst.update(dtrain, iteration=i, fobj=obj)\n"
          ]
        },
        {
          "output_type": "stream",
          "name": "stdout",
          "text": [
            "✅ XGBoost: Accuracy=0.628, F1=0.621\n",
            "\n",
            "🚀 Training CatBoost...\n"
          ]
        },
        {
          "output_type": "stream",
          "name": "stderr",
          "text": [
            "/usr/local/lib/python3.12/dist-packages/sklearn/preprocessing/_label.py:151: DataConversionWarning: A column-vector y was passed when a 1d array was expected. Please change the shape of y to (n_samples, ), for example using ravel().\n",
            "  y = column_or_1d(y, warn=True)\n"
          ]
        },
        {
          "output_type": "stream",
          "name": "stdout",
          "text": [
            "✅ CatBoost: Accuracy=0.611, F1=0.602\n",
            "\n",
            "🏆 Best model for Urgency: XGBoost (F1=0.621)\n"
          ]
        },
        {
          "output_type": "stream",
          "name": "stderr",
          "text": [
            "/usr/local/lib/python3.12/dist-packages/xgboost/training.py:183: UserWarning: [14:02:43] WARNING: /workspace/src/learner.cc:738: \n",
            "Parameters: { \"use_label_encoder\" } are not used.\n",
            "\n",
            "  bst.update(dtrain, iteration=i, fobj=obj)\n"
          ]
        },
        {
          "output_type": "stream",
          "name": "stdout",
          "text": [
            "💾 Saved best Urgency model → models/urgency_best.joblib\n",
            "\n",
            "🎯 Task: Category (predicting category)\n",
            "\n",
            "🚀 Training LogReg...\n",
            "✅ LogReg: Accuracy=0.770, F1=0.767\n",
            "\n",
            "🚀 Training NaiveBayes...\n",
            "✅ NaiveBayes: Accuracy=0.327, F1=0.226\n"
          ]
        },
        {
          "output_type": "stream",
          "name": "stderr",
          "text": [
            "/usr/local/lib/python3.12/dist-packages/sklearn/metrics/_classification.py:1565: UndefinedMetricWarning: Precision is ill-defined and being set to 0.0 in labels with no predicted samples. Use `zero_division` parameter to control this behavior.\n",
            "  _warn_prf(average, modifier, f\"{metric.capitalize()} is\", len(result))\n",
            "/usr/local/lib/python3.12/dist-packages/sklearn/metrics/_classification.py:1565: UndefinedMetricWarning: Precision is ill-defined and being set to 0.0 in labels with no predicted samples. Use `zero_division` parameter to control this behavior.\n",
            "  _warn_prf(average, modifier, f\"{metric.capitalize()} is\", len(result))\n",
            "/usr/local/lib/python3.12/dist-packages/sklearn/metrics/_classification.py:1565: UndefinedMetricWarning: Precision is ill-defined and being set to 0.0 in labels with no predicted samples. Use `zero_division` parameter to control this behavior.\n",
            "  _warn_prf(average, modifier, f\"{metric.capitalize()} is\", len(result))\n"
          ]
        },
        {
          "output_type": "stream",
          "name": "stdout",
          "text": [
            "\n",
            "🚀 Training RandomForest...\n",
            "✅ RandomForest: Accuracy=0.783, F1=0.761\n"
          ]
        },
        {
          "output_type": "stream",
          "name": "stderr",
          "text": [
            "/usr/local/lib/python3.12/dist-packages/sklearn/metrics/_classification.py:1565: UndefinedMetricWarning: Precision is ill-defined and being set to 0.0 in labels with no predicted samples. Use `zero_division` parameter to control this behavior.\n",
            "  _warn_prf(average, modifier, f\"{metric.capitalize()} is\", len(result))\n",
            "/usr/local/lib/python3.12/dist-packages/sklearn/metrics/_classification.py:1565: UndefinedMetricWarning: Precision is ill-defined and being set to 0.0 in labels with no predicted samples. Use `zero_division` parameter to control this behavior.\n",
            "  _warn_prf(average, modifier, f\"{metric.capitalize()} is\", len(result))\n",
            "/usr/local/lib/python3.12/dist-packages/sklearn/metrics/_classification.py:1565: UndefinedMetricWarning: Precision is ill-defined and being set to 0.0 in labels with no predicted samples. Use `zero_division` parameter to control this behavior.\n",
            "  _warn_prf(average, modifier, f\"{metric.capitalize()} is\", len(result))\n"
          ]
        },
        {
          "output_type": "stream",
          "name": "stdout",
          "text": [
            "\n",
            "🚀 Training LinearSVC...\n",
            "✅ LinearSVC: Accuracy=0.770, F1=0.758\n",
            "\n",
            "🚀 Training XGBoost...\n"
          ]
        },
        {
          "output_type": "stream",
          "name": "stderr",
          "text": [
            "/usr/local/lib/python3.12/dist-packages/xgboost/training.py:183: UserWarning: [14:02:57] WARNING: /workspace/src/learner.cc:738: \n",
            "Parameters: { \"use_label_encoder\" } are not used.\n",
            "\n",
            "  bst.update(dtrain, iteration=i, fobj=obj)\n"
          ]
        },
        {
          "output_type": "stream",
          "name": "stdout",
          "text": [
            "✅ XGBoost: Accuracy=0.805, F1=0.790\n",
            "\n",
            "🚀 Training CatBoost...\n"
          ]
        },
        {
          "output_type": "stream",
          "name": "stderr",
          "text": [
            "/usr/local/lib/python3.12/dist-packages/sklearn/preprocessing/_label.py:151: DataConversionWarning: A column-vector y was passed when a 1d array was expected. Please change the shape of y to (n_samples, ), for example using ravel().\n",
            "  y = column_or_1d(y, warn=True)\n"
          ]
        },
        {
          "output_type": "stream",
          "name": "stdout",
          "text": [
            "✅ CatBoost: Accuracy=0.814, F1=0.799\n",
            "\n",
            "🏆 Best model for Category: CatBoost (F1=0.799)\n",
            "💾 Saved best Category model → models/category_best.joblib\n",
            "\n",
            "📊 Benchmark Results:\n",
            "         Task         Model  Accuracy      F1\n",
            "0   Sentiment        LogReg    0.8009  0.7950\n",
            "1   Sentiment    NaiveBayes    0.6239  0.5039\n",
            "2   Sentiment  RandomForest    0.7832  0.7387\n",
            "3   Sentiment     LinearSVC    0.7920  0.7811\n",
            "4   Sentiment       XGBoost    0.8319  0.8261\n",
            "5   Sentiment      CatBoost    0.8363  0.8270\n",
            "6     Urgency        LogReg    0.5885  0.5872\n",
            "7     Urgency    NaiveBayes    0.4823  0.3235\n",
            "8     Urgency  RandomForest    0.5841  0.5563\n",
            "9     Urgency     LinearSVC    0.6150  0.6151\n",
            "10    Urgency       XGBoost    0.6283  0.6208\n",
            "11    Urgency      CatBoost    0.6106  0.6019\n",
            "12   Category        LogReg    0.7699  0.7670\n",
            "13   Category    NaiveBayes    0.3274  0.2256\n",
            "14   Category  RandomForest    0.7832  0.7610\n",
            "15   Category     LinearSVC    0.7699  0.7580\n",
            "16   Category       XGBoost    0.8053  0.7897\n",
            "17   Category      CatBoost    0.8142  0.7987\n",
            "💾 Saved benchmark results → benchmark_results.csv\n",
            "💾 Saved evaluation report → evaluation_report.md\n"
          ]
        }
      ]
    },
    {
      "cell_type": "code",
      "source": [
        "# ================================\n",
        "# 6. Visualize Benchmark Results\n",
        "# ================================\n",
        "plt.figure(figsize=(10, 6))\n",
        "sns.barplot(data=all_results, x=\"Model\", y=\"F1\", hue=\"Task\")\n",
        "plt.title(\"Model Benchmark Comparison (F1 Score)\")\n",
        "plt.ylabel(\"F1 Score\")\n",
        "plt.ylim(0, 1)\n",
        "plt.legend(title=\"Task\")\n",
        "plt.tight_layout()\n",
        "\n",
        "f1_chart_path = \"figures/benchmark_f1_scores.png\"\n",
        "plt.savefig(f1_chart_path, dpi=300)\n",
        "plt.close()\n",
        "\n",
        "print(f\"📊 Saved F1 comparison chart → {f1_chart_path}\")\n",
        "\n",
        "# Append chart reference to evaluation report\n",
        "with open(report_path, \"a\") as f:\n",
        "    f.write(\"\\n## 📈 F1 Score Comparison Chart\\n\")\n",
        "    f.write(f\"![F1 Score Comparison]({f1_chart_path})\\n\")\n"
      ],
      "metadata": {
        "colab": {
          "base_uri": "https://localhost:8080/"
        },
        "id": "0jBGdEXYTyhr",
        "outputId": "34b0fa1f-cc7f-4d30-f5b1-1f71a5c34cce"
      },
      "execution_count": 25,
      "outputs": [
        {
          "output_type": "stream",
          "name": "stdout",
          "text": [
            "📊 Saved F1 comparison chart → figures/benchmark_f1_scores.png\n"
          ]
        }
      ]
    },
    {
      "cell_type": "code",
      "source": [],
      "metadata": {
        "id": "HM_iHQxRYLpu"
      },
      "execution_count": null,
      "outputs": []
    }
  ]
}